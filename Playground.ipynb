{
 "cells": [
  {
   "cell_type": "code",
   "execution_count": 1,
   "metadata": {},
   "outputs": [],
   "source": [
    "import sympy as sp\n",
    "sp.init_printing()"
   ]
  },
  {
   "cell_type": "code",
   "execution_count": 2,
   "metadata": {},
   "outputs": [
    {
     "data": {
      "text/latex": [
       "$$f{\\left (t_{0} \\right )} + \\left(t - t_{0}\\right) \\left. \\frac{d}{d \\xi_{1}} f{\\left (\\xi_{1} \\right )} \\right|_{\\substack{ \\xi_{1}=t_{0} }} + \\frac{1}{2} \\left(t - t_{0}\\right)^{2} \\left. \\frac{d^{2}}{d \\xi_{1}^{2}}  f{\\left (\\xi_{1} \\right )} \\right|_{\\substack{ \\xi_{1}=t_{0} }} + \\mathcal{O}\\left(\\left(t - t_{0}\\right)^{3}; t\\rightarrow t_{0}\\right)$$"
      ],
      "text/plain": [
       "                                                ⎛  2        ⎞│                \n",
       "                                              2 ⎜ d         ⎟│                \n",
       "                                      (t - t₀) ⋅⎜────(f(ξ₁))⎟│                \n",
       "                                                ⎜   2       ⎟│                \n",
       "                 ⎛ d        ⎞│                  ⎝dξ₁        ⎠│ξ₁=t₀    ⎛      \n",
       "f(t₀) + (t - t₀)⋅⎜───(f(ξ₁))⎟│      + ───────────────────────────── + O⎝(t - t\n",
       "                 ⎝dξ₁       ⎠│ξ₁=t₀                 2                         \n",
       "\n",
       "            \n",
       "            \n",
       "            \n",
       "            \n",
       "  3        ⎞\n",
       "₀) ; t → t₀⎠\n",
       "            "
      ]
     },
     "execution_count": 2,
     "metadata": {},
     "output_type": "execute_result"
    }
   ],
   "source": [
    "sp.var('f t t0')\n",
    "f(t).series(t, t0, 3)"
   ]
  },
  {
   "cell_type": "code",
   "execution_count": 3,
   "metadata": {},
   "outputs": [
    {
     "data": {
      "text/latex": [
       "$$\\frac{1}{f{\\left (t_{0} \\right )}} - \\frac{1}{f^{2}{\\left (t_{0} \\right )}} \\left(t - t_{0}\\right) \\left. \\frac{d}{d \\xi_{1}} f{\\left (\\xi_{1} \\right )} \\right|_{\\substack{ \\xi_{1}=t_{0} }} + \\left(t - t_{0}\\right)^{2} \\left(- \\frac{\\left. \\frac{d^{2}}{d \\xi_{1}^{2}}  f{\\left (\\xi_{1} \\right )} \\right|_{\\substack{ \\xi_{1}=t_{0} }}}{2 f^{2}{\\left (t_{0} \\right )}} + \\frac{1}{f^{3}{\\left (t_{0} \\right )}} \\left. \\frac{d}{d \\xi_{1}} f{\\left (\\xi_{1} \\right )} \\right|_{\\substack{ \\xi_{1}=t_{0} }}^{2}\\right) + \\mathcal{O}\\left(\\left(t - t_{0}\\right)^{3}; t\\rightarrow t_{0}\\right)$$"
      ],
      "text/plain": [
       "                                                ⎛  ⎛  2        ⎞│             \n",
       "                                                ⎜  ⎜ d         ⎟│             \n",
       "                 ⎛ d        ⎞│                  ⎜  ⎜────(f(ξ₁))⎟│        ⎛ d  \n",
       "        (t - t₀)⋅⎜───(f(ξ₁))⎟│                  ⎜  ⎜   2       ⎟│        ⎜───(\n",
       "  1              ⎝dξ₁       ⎠│ξ₁=t₀           2 ⎜  ⎝dξ₁        ⎠│ξ₁=t₀   ⎝dξ₁ \n",
       "───── - ─────────────────────────── + (t - t₀) ⋅⎜- ─────────────────── + ─────\n",
       "f(t₀)               2                           ⎜           2                 \n",
       "                   f (t₀)                       ⎝        2⋅f (t₀)             \n",
       "\n",
       "              ⎞                       \n",
       "             2⎟                       \n",
       "      ⎞│      ⎟                       \n",
       "f(ξ₁))⎟│      ⎟                       \n",
       "      ⎠│ξ₁=t₀ ⎟    ⎛        3        ⎞\n",
       "──────────────⎟ + O⎝(t - t₀) ; t → t₀⎠\n",
       "   3          ⎟                       \n",
       "  f (t₀)      ⎠                       "
      ]
     },
     "execution_count": 3,
     "metadata": {},
     "output_type": "execute_result"
    }
   ],
   "source": [
    "invf = 1 / f(t)\n",
    "invf.series(t, t0, 3)"
   ]
  },
  {
   "cell_type": "code",
   "execution_count": 4,
   "metadata": {
    "scrolled": true
   },
   "outputs": [
    {
     "data": {
      "text/plain": [
       "<Figure size 640x480 with 1 Axes>"
      ]
     },
     "metadata": {},
     "output_type": "display_data"
    }
   ],
   "source": [
    "# Graph plotting\n",
    "import matplotlib.pyplot as plt\n",
    "import numpy as np\n",
    "\n",
    "xs = np.arange(100)\n",
    "ys = xs * xs\n",
    "plt.plot(xs, ys)\n",
    "plt.show()"
   ]
  },
  {
   "cell_type": "code",
   "execution_count": 25,
   "metadata": {},
   "outputs": [
    {
     "data": {
      "image/png": "[encoded data removed]",
      "text/plain": [
       "<Figure size 432x288 with 1 Axes>"
      ]
     },
     "metadata": {},
     "output_type": "display_data"
    },
    {
     "data": {
      "image/png": "[encoded data removed]",
      "text/plain": [
       "<Figure size 432x288 with 1 Axes>"
      ]
     },
     "metadata": {},
     "output_type": "display_data"
    },
    {
     "data": {
      "image/png": "[encoded data removed]",
      "text/plain": [
       "<Figure size 432x288 with 1 Axes>"
      ]
     },
     "metadata": {},
     "output_type": "display_data"
    },
    {
     "data": {
      "text/plain": [
       "<sympy.plotting.plot.Plot at 0x7fcb5153ccf8>"
      ]
     },
     "execution_count": 25,
     "metadata": {},
     "output_type": "execute_result"
    }
   ],
   "source": [
    "x = sp.symbols('x')\n",
    "sp.plot(x * x, x, (x, -5, 5), ylim=(-5, 15))\n",
    "sp.plot(1 / x, (x, 0, 5), ylim=(0, 5))\n",
    "sp.plot(- 2 / x + 3 / x**2 - 1 / x**3, (x, 0, 3), ylim=(-10, 10))"
   ]
  },
  {
   "cell_type": "code",
   "execution_count": 6,
   "metadata": {},
   "outputs": [
    {
     "data": {
      "text/plain": [
       "True"
      ]
     },
     "execution_count": 6,
     "metadata": {},
     "output_type": "execute_result"
    }
   ],
   "source": [
    "f = sp.Float(123.456)\n",
    "f._prec\n",
    "isinstance(f, sp.Float)"
   ]
  },
  {
   "cell_type": "code",
   "execution_count": 7,
   "metadata": {},
   "outputs": [
    {
     "data": {
      "text/plain": [
       "True"
      ]
     },
     "execution_count": 7,
     "metadata": {},
     "output_type": "execute_result"
    }
   ],
   "source": [
    "0 == False"
   ]
  },
  {
   "cell_type": "code",
   "execution_count": 14,
   "metadata": {},
   "outputs": [],
   "source": [
    "def display_float_precision(n):\n",
    "    def _print_float(f):\n",
    "        if n is -1:\n",
    "            f = sp.Float(f)\n",
    "        else:\n",
    "            f = sp.Float(f, n)\n",
    "        from sympy import latex\n",
    "        return '$${}$$'.format(latex(f, mode='plain'))\n",
    "    from IPython import get_ipython\n",
    "    formatter = get_ipython().display_formatter.formatters['text/latex']\n",
    "    formatter.for_type(float, _print_float)\n",
    "\n",
    "display_float_precision(3)"
   ]
  },
  {
   "cell_type": "code",
   "execution_count": 15,
   "metadata": {},
   "outputs": [],
   "source": [
    "import math\n",
    "\n",
    "# AU, parsec\n",
    "AU = 3 * 10** 8 * 8.3 * 60 # m\n",
    "PC = AU / (2 * math.pi / (360 * 60**2)) # m\n",
    "# Avogadro constant\n",
    "AV = 6.0 * 10 **23"
   ]
  },
  {
   "cell_type": "code",
   "execution_count": 16,
   "metadata": {},
   "outputs": [
    {
     "data": {
      "image/png": "[encoded data removed]",
      "text/latex": [
       "$$3.08 \\cdot 10^{16}$$"
      ],
      "text/plain": [
       "3.0815962053316196e+16"
      ]
     },
     "execution_count": 16,
     "metadata": {},
     "output_type": "execute_result"
    }
   ],
   "source": [
    "PC"
   ]
  },
  {
   "cell_type": "code",
   "execution_count": 17,
   "metadata": {},
   "outputs": [],
   "source": [
    "display_float_precision(-1)"
   ]
  },
  {
   "cell_type": "code",
   "execution_count": 18,
   "metadata": {},
   "outputs": [
    {
     "data": {
      "image/png": "[encoded data removed]",
      "text/latex": [
       "$$3.08159620533162 \\cdot 10^{16}$$"
      ],
      "text/plain": [
       "3.0815962053316196e+16"
      ]
     },
     "execution_count": 18,
     "metadata": {},
     "output_type": "execute_result"
    }
   ],
   "source": [
    "PC"
   ]
  }
 ],
 "metadata": {
  "kernelspec": {
   "display_name": "Python 3",
   "language": "python",
   "name": "python3"
  },
  "language_info": {
   "codemirror_mode": {
    "name": "ipython",
    "version": 3
   },
   "file_extension": ".py",
   "mimetype": "text/x-python",
   "name": "python",
   "nbconvert_exporter": "python",
   "pygments_lexer": "ipython3",
   "version": "3.6.4"
  }
 },
 "nbformat": 4,
 "nbformat_minor": 2
}
