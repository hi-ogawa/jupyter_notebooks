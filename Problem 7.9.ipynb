{
 "cells": [
  {
   "cell_type": "code",
   "execution_count": 5,
   "metadata": {},
   "outputs": [],
   "source": [
    "import sympy as sp\n",
    "import math\n",
    "sp.init_printing()"
   ]
  },
  {
   "cell_type": "code",
   "execution_count": 11,
   "metadata": {},
   "outputs": [],
   "source": [
    "# AU, parsec\n",
    "AU = 3 * 10** 8 * 8.3 * 60 # m\n",
    "PC = AU / (2 * math.pi / (360 * 60**2)) # m\n",
    "# Avogadro constant\n",
    "AV = 6.0 * 10 **23"
   ]
  },
  {
   "cell_type": "code",
   "execution_count": 14,
   "metadata": {},
   "outputs": [
    {
     "data": {
      "text/latex": [
       "$$3.0815962053316196e+16$$"
      ],
      "text/plain": [
       "3.0815962053316196e+16"
      ]
     },
     "execution_count": 14,
     "metadata": {},
     "output_type": "execute_result"
    }
   ],
   "source": [
    "PC"
   ]
  },
  {
   "cell_type": "code",
   "execution_count": 12,
   "metadata": {},
   "outputs": [
    {
     "data": {
      "text/latex": [
       "$$\\left ( 2.9099999999999995e-24, \\quad 2.3364514752266796e-12\\right )$$"
      ],
      "text/plain": [
       "(2.9099999999999995e-24, 2.3364514752266796e-12)"
      ]
     },
     "execution_count": 12,
     "metadata": {},
     "output_type": "execute_result"
    }
   ],
   "source": [
    "# problem (7.9) (d)\n",
    "rho = 0.3 * 0.97 * 10**-29 * 100**3 # g/m\n",
    "h0 = 72 * 10**3 / PC # 1/s\n",
    "rho, h0"
   ]
  },
  {
   "cell_type": "code",
   "execution_count": 16,
   "metadata": {},
   "outputs": [
    {
     "data": {
      "text/latex": [
       "$$1.0000736850483325$$"
      ],
      "text/plain": [
       "1.0000736850483325"
      ]
     },
     "execution_count": 16,
     "metadata": {},
     "output_type": "execute_result"
    }
   ],
   "source": [
    "# length expansion in 1 year\n",
    "len_ratio = math.exp(h0 * 365 * 24 * 60 * 60) # 1\n",
    "len_ratio"
   ]
  },
  {
   "cell_type": "code",
   "execution_count": 20,
   "metadata": {},
   "outputs": [
    {
     "data": {
      "text/latex": [
       "$$2.1442349064755944e-19$$"
      ],
      "text/plain": [
       "2.1442349064755944e-19"
      ]
     },
     "execution_count": 20,
     "metadata": {},
     "output_type": "execute_result"
    }
   ],
   "source": [
    "# increase in mass per cubic km\n",
    "dM = (len_ratio - 1) * (10**3)**3 * rho # g\n",
    "dM"
   ]
  },
  {
   "cell_type": "code",
   "execution_count": 23,
   "metadata": {},
   "outputs": [
    {
     "data": {
      "text/latex": [
       "$$128654.09438853565$$"
      ],
      "text/plain": [
       "128654.09438853565"
      ]
     },
     "execution_count": 23,
     "metadata": {},
     "output_type": "execute_result"
    }
   ],
   "source": [
    "dM * AV # increase of mass in terms of the number of proton (H atom)"
   ]
  }
 ],
 "metadata": {
  "kernelspec": {
   "display_name": "Python 3",
   "language": "python",
   "name": "python3"
  },
  "language_info": {
   "codemirror_mode": {
    "name": "ipython",
    "version": 3
   },
   "file_extension": ".py",
   "mimetype": "text/x-python",
   "name": "python",
   "nbconvert_exporter": "python",
   "pygments_lexer": "ipython3",
   "version": "3.6.4"
  }
 },
 "nbformat": 4,
 "nbformat_minor": 2
}
